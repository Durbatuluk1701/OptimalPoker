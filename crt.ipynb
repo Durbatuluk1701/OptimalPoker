{
 "cells": [
  {
   "cell_type": "code",
   "execution_count": 1,
   "metadata": {},
   "outputs": [],
   "source": [
    "def DA(x, y):\n",
    "    b = max(x, y)\n",
    "    a = min(x, y)\n",
    "    r = b % a\n",
    "    return [b, a, (b-r)//a, r]"
   ]
  },
  {
   "cell_type": "code",
   "execution_count": 2,
   "metadata": {},
   "outputs": [],
   "source": [
    "def EA(x, y):\n",
    "    L = DA(x, y)\n",
    "    if L[3] == 0:\n",
    "        return L[1]\n",
    "    else:\n",
    "        while L[3] != 0:\n",
    "            L = DA(L[1], L[3])\n",
    "    return L[1]\n"
   ]
  },
  {
   "cell_type": "code",
   "execution_count": 3,
   "metadata": {},
   "outputs": [],
   "source": [
    "def EEA(x, y):\n",
    "    L = [DA(x, y)]\n",
    "    i = 0\n",
    "    while L[i][3] != 0:\n",
    "        L = L+[DA(L[i][1], L[i][3])]\n",
    "        i = i+1\n",
    "    if (len(L) == 1):\n",
    "        return [L[0][2], 1, L[0][2], 0, 0]\n",
    "    N = len(L) - 1\n",
    "    S = [1, -L[N - 1][2]]\n",
    "    for i in range(2, len(L)):\n",
    "        S.append(S[i-2] - S[i-1] * L[N - i][2])\n",
    "    return [L[-2][3], S[-1], L[0][1], S[-2], L[0][0]]\n"
   ]
  },
  {
   "cell_type": "code",
   "execution_count": 11,
   "metadata": {},
   "outputs": [],
   "source": [
    "# Repeatedly applicable for bigger congruence equations\n",
    "def CRT(a1, m1, a2, m2):\n",
    "    \"\"\"\n",
    "    x = a1 mod m1\n",
    "    x = a2 mod m2\n",
    "    Solve for x\n",
    "\n",
    "    For our problem since m1 and m2 are 4, 13 (rel prime) we know this we always have unique solutions mod 4*13\n",
    "    Additionally, we know that gcd(m1, m2) = 1, but technically we should calc that\n",
    "    \"\"\"\n",
    "    [gcd, s, m, t, n] = EEA(m1, m2) # gcd = s*m + t*n (bezouts)\n",
    "    if (gcd != 1):\n",
    "        raise \"m1, m2 are not relatively prime\"\n",
    "    modClass = m1 * m2\n",
    "    if (m1 == m):\n",
    "        return ((a2*s*m + a1*t*n) % modClass, modClass)\n",
    "    else: # m1 == n\n",
    "        return ((a1*s*m + a2*t*n) % modClass, modClass)"
   ]
  },
  {
   "cell_type": "code",
   "execution_count": 18,
   "metadata": {},
   "outputs": [
    {
     "data": {
      "text/plain": [
       "(16, 52)"
      ]
     },
     "execution_count": 18,
     "metadata": {},
     "output_type": "execute_result"
    }
   ],
   "source": [
    "CRT(0, 4, 3, 13) # Basic testing"
   ]
  },
  {
   "cell_type": "code",
   "execution_count": 23,
   "metadata": {},
   "outputs": [
    {
     "name": "stdout",
     "output_type": "stream",
     "text": [
      "{0: '2C', 40: '3C', 28: '4C', 16: '5C', 4: '6C', 44: '7C', 32: '8C', 20: '9C', 8: '10C', 48: 'JC', 36: 'QC', 24: 'KC', 12: 'AC', 13: '2D', 1: '3D', 41: '4D', 29: '5D', 17: '6D', 5: '7D', 45: '8D', 33: '9D', 21: '10D', 9: 'JD', 49: 'QD', 37: 'KD', 25: 'AD', 26: '2H', 14: '3H', 2: '4H', 42: '5H', 30: '6H', 18: '7H', 6: '8H', 46: '9H', 34: '10H', 22: 'JH', 10: 'QH', 50: 'KH', 38: 'AH', 39: '2S', 27: '3S', 15: '4S', 3: '5S', 43: '6S', 31: '7S', 19: '8S', 7: '9S', 47: '10S', 35: 'JS', 23: 'QS', 11: 'KS', 51: 'AS'}\n"
     ]
    }
   ],
   "source": [
    "# The big shabang, doing all the translations\n",
    "cards = [2,3,4,5,6,7,8,9,10,\"J\", \"Q\", \"K\", \"A\"]\n",
    "suits = [\"C\", \"D\", \"H\", \"S\"]\n",
    "outDict = {}\n",
    "for i in range(4):\n",
    "    for j in range(13):\n",
    "        outDict[CRT(i,4,j,13)[0]] = f\"{cards[j % 13]}{suits[i % 4]}\"\n",
    "        # print(f\"\\\"{cards[j % 13]}{suits[i % 4]}\\\": {CRT(i, 4, j, 13)[0]},\")\n",
    "        # print(f\"| {cards[j % 13]} {suits[i % 4]}     | {CRT(i, 4, j, 13)[0]}     |\")\n",
    "        # print(f\"{cards[j % 13]} {suits[i % 4]} -> {CRT(i, 4, j, 13)[0]}\")\n",
    "print(outDict)"
   ]
  },
  {
   "cell_type": "code",
   "execution_count": null,
   "metadata": {},
   "outputs": [],
   "source": []
  }
 ],
 "metadata": {
  "interpreter": {
   "hash": "2be5faf79681da6f2a61fdfdd5405d65d042280f7fba6178067603e3a2925119"
  },
  "kernelspec": {
   "display_name": "Python 3.10.0 64-bit",
   "language": "python",
   "name": "python3"
  },
  "language_info": {
   "codemirror_mode": {
    "name": "ipython",
    "version": 3
   },
   "file_extension": ".py",
   "mimetype": "text/x-python",
   "name": "python",
   "nbconvert_exporter": "python",
   "pygments_lexer": "ipython3",
   "version": "3.10.0"
  },
  "orig_nbformat": 4
 },
 "nbformat": 4,
 "nbformat_minor": 2
}
