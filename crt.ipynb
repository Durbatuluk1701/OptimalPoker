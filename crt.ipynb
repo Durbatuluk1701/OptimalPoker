{
 "cells": [
  {
   "cell_type": "code",
   "execution_count": 1,
   "metadata": {},
   "outputs": [],
   "source": [
    "def DA(x, y):\n",
    "    b = max(x, y)\n",
    "    a = min(x, y)\n",
    "    r = b % a\n",
    "    return [b, a, (b-r)//a, r]"
   ]
  },
  {
   "cell_type": "code",
   "execution_count": 2,
   "metadata": {},
   "outputs": [],
   "source": [
    "def EA(x, y):\n",
    "    L = DA(x, y)\n",
    "    if L[3] == 0:\n",
    "        return L[1]\n",
    "    else:\n",
    "        while L[3] != 0:\n",
    "            L = DA(L[1], L[3])\n",
    "    return L[1]\n"
   ]
  },
  {
   "cell_type": "code",
   "execution_count": 3,
   "metadata": {},
   "outputs": [],
   "source": [
    "def EEA(x, y):\n",
    "    L = [DA(x, y)]\n",
    "    i = 0\n",
    "    while L[i][3] != 0:\n",
    "        L = L+[DA(L[i][1], L[i][3])]\n",
    "        i = i+1\n",
    "    if (len(L) == 1):\n",
    "        return [L[0][2], 1, L[0][2], 0, 0]\n",
    "    N = len(L) - 1\n",
    "    S = [1, -L[N - 1][2]]\n",
    "    for i in range(2, len(L)):\n",
    "        S.append(S[i-2] - S[i-1] * L[N - i][2])\n",
    "    return [L[-2][3], S[-1], L[0][1], S[-2], L[0][0]]\n"
   ]
  },
  {
   "cell_type": "code",
   "execution_count": 11,
   "metadata": {},
   "outputs": [],
   "source": [
    "# Repeatedly applicable for bigger congruence equations\n",
    "def CRT(a1, m1, a2, m2):\n",
    "    \"\"\"\n",
    "    x = a1 mod m1\n",
    "    x = a2 mod m2\n",
    "    Solve for x\n",
    "\n",
    "    For our problem since m1 and m2 are 4, 13 (rel prime) we know this we always have unique solutions mod 4*13\n",
    "    Additionally, we know that gcd(m1, m2) = 1, but technically we should calc that\n",
    "    \"\"\"\n",
    "    [gcd, s, m, t, n] = EEA(m1, m2) # gcd = s*m + t*n (bezouts)\n",
    "    if (gcd != 1):\n",
    "        raise \"m1, m2 are not relatively prime\"\n",
    "    modClass = m1 * m2\n",
    "    if (m1 == m):\n",
    "        return ((a2*s*m + a1*t*n) % modClass, modClass)\n",
    "    else: # m1 == n\n",
    "        return ((a1*s*m + a2*t*n) % modClass, modClass)"
   ]
  },
  {
   "cell_type": "code",
   "execution_count": 18,
   "metadata": {},
   "outputs": [
    {
     "data": {
      "text/plain": [
       "(16, 52)"
      ]
     },
     "execution_count": 18,
     "metadata": {},
     "output_type": "execute_result"
    }
   ],
   "source": [
    "CRT(0, 4, 3, 13) # Basic testing"
   ]
  },
  {
   "cell_type": "code",
   "execution_count": 21,
   "metadata": {},
   "outputs": [
    {
     "name": "stdout",
     "output_type": "stream",
     "text": [
      "\"2C\": 0,\n",
      "\"3C\": 40,\n",
      "\"4C\": 28,\n",
      "\"5C\": 16,\n",
      "\"6C\": 4,\n",
      "\"7C\": 44,\n",
      "\"8C\": 32,\n",
      "\"9C\": 20,\n",
      "\"10C\": 8,\n",
      "\"JC\": 48,\n",
      "\"QC\": 36,\n",
      "\"KC\": 24,\n",
      "\"AC\": 12,\n",
      "\"2D\": 13,\n",
      "\"3D\": 1,\n",
      "\"4D\": 41,\n",
      "\"5D\": 29,\n",
      "\"6D\": 17,\n",
      "\"7D\": 5,\n",
      "\"8D\": 45,\n",
      "\"9D\": 33,\n",
      "\"10D\": 21,\n",
      "\"JD\": 9,\n",
      "\"QD\": 49,\n",
      "\"KD\": 37,\n",
      "\"AD\": 25,\n",
      "\"2H\": 26,\n",
      "\"3H\": 14,\n",
      "\"4H\": 2,\n",
      "\"5H\": 42,\n",
      "\"6H\": 30,\n",
      "\"7H\": 18,\n",
      "\"8H\": 6,\n",
      "\"9H\": 46,\n",
      "\"10H\": 34,\n",
      "\"JH\": 22,\n",
      "\"QH\": 10,\n",
      "\"KH\": 50,\n",
      "\"AH\": 38,\n",
      "\"2S\": 39,\n",
      "\"3S\": 27,\n",
      "\"4S\": 15,\n",
      "\"5S\": 3,\n",
      "\"6S\": 43,\n",
      "\"7S\": 31,\n",
      "\"8S\": 19,\n",
      "\"9S\": 7,\n",
      "\"10S\": 47,\n",
      "\"JS\": 35,\n",
      "\"QS\": 23,\n",
      "\"KS\": 11,\n",
      "\"AS\": 51,\n"
     ]
    }
   ],
   "source": [
    "# The big shabang, doing all the translations\n",
    "cards = [2,3,4,5,6,7,8,9,10,\"J\", \"Q\", \"K\", \"A\"]\n",
    "suits = [\"C\", \"D\", \"H\", \"S\"]\n",
    "for i in range(4):\n",
    "    for j in range(13):\n",
    "        print(f\"\\\"{cards[j % 13]}{suits[i % 4]}\\\": {CRT(i, 4, j, 13)[0]},\")\n",
    "        # print(f\"| {cards[j % 13]} {suits[i % 4]}     | {CRT(i, 4, j, 13)[0]}     |\")\n",
    "        # print(f\"{cards[j % 13]} {suits[i % 4]} -> {CRT(i, 4, j, 13)[0]}\")"
   ]
  },
  {
   "cell_type": "code",
   "execution_count": null,
   "metadata": {},
   "outputs": [],
   "source": []
  }
 ],
 "metadata": {
  "interpreter": {
   "hash": "2be5faf79681da6f2a61fdfdd5405d65d042280f7fba6178067603e3a2925119"
  },
  "kernelspec": {
   "display_name": "Python 3.10.0 64-bit",
   "language": "python",
   "name": "python3"
  },
  "language_info": {
   "codemirror_mode": {
    "name": "ipython",
    "version": 3
   },
   "file_extension": ".py",
   "mimetype": "text/x-python",
   "name": "python",
   "nbconvert_exporter": "python",
   "pygments_lexer": "ipython3",
   "version": "3.10.0"
  },
  "orig_nbformat": 4
 },
 "nbformat": 4,
 "nbformat_minor": 2
}
